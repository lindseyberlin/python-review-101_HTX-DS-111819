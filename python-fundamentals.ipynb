{
 "cells": [
  {
   "cell_type": "markdown",
   "metadata": {},
   "source": [
    "![python logo](https://www.python.org/static/community_logos/python-logo-master-v3-TM.png)\n",
    "\n",
    "\n",
    "\n",
    "# Python has a lot of great [documentation](https://www.python.org/about/gettingstarted/)\n",
    "\n",
    "\n",
    "Today we're focused on review, making sure everyone can:\n",
    "\n",
    "- Assign variables\n",
    "- Classify and explain data types (integers, floats, strings, booleans, lists, dictionaries, and tuples)\n",
    "- Identify comparators and boolean operators to create conditional code\n",
    "- Make use of a `list`: indexing, ranges, appending\n",
    "- Make use of a `dict`: identifying, creating, navigating\n",
    "- Apply a `for loop` to lists and dictionaries\n",
    "\n",
    "\n",
    "### To do all that, we are going to code up versions of a bento box:\n",
    "\n",
    "![bento box image](https://images.pexels.com/photos/884596/pexels-photo-884596.jpeg?auto=compress&cs=tinysrgb&dpr=2&h=750&w=1260)\n",
    "\n",
    "\n",
    "### Bento boxes can have multiple ingredients and choices\n",
    "\n",
    "By the end, we want to combine everyone's bento order into one data collection and print each item for the restaurant. \n",
    "\n",
    "### Variable assignment \n",
    "\n",
    "Let's start with our first bento oder:\n",
    "\n",
    "```\n",
    "main = \"rice\"\n",
    "protein = \"salmon\"\n",
    "ozofprotein = 4.5\n",
    "number_of_sides = 3\n",
    "side1 = 'seaweed'\n",
    "side2 = 'onigiri'\n",
    "side2 = 'turnip pickle'\n",
    "greatbento = True\n",
    "```"
   ]
  },
  {
   "cell_type": "code",
   "execution_count": 1,
   "metadata": {},
   "outputs": [],
   "source": [
    "main = \"rice\"\n",
    "protein = \"salmon\"\n",
    "oz_of_protein = 4.5\n",
    "number_of_sides = 3\n",
    "side1 = 'seaweed'\n",
    "side2 = 'onigiri'\n",
    "side3 = 'turnip pickle'\n",
    "great_bento = True"
   ]
  },
  {
   "cell_type": "markdown",
   "metadata": {},
   "source": [
    "Now, if we wanted to change our protein to ginger chicken, how would we do that?"
   ]
  },
  {
   "cell_type": "code",
   "execution_count": 2,
   "metadata": {},
   "outputs": [],
   "source": [
    "protein = \"ginger chicken\""
   ]
  },
  {
   "cell_type": "code",
   "execution_count": 3,
   "metadata": {},
   "outputs": [
    {
     "data": {
      "text/plain": [
       "'ginger chicken'"
      ]
     },
     "execution_count": 3,
     "metadata": {},
     "output_type": "execute_result"
    }
   ],
   "source": [
    "protein"
   ]
  },
  {
   "cell_type": "markdown",
   "metadata": {},
   "source": [
    "We can reassign variable values easily.\n",
    "\n",
    "Now, we assigned those variables one at a time. We also can assign multiple values at once:\n",
    "\n",
    "`side1, side2, side3 = \"carrots\", \"kimchi\", \"mushrooms\"`\n",
    "\n",
    "Update your side order to match your preference. \n",
    "\n",
    "Then use `print()` to confirm the variable change"
   ]
  },
  {
   "cell_type": "code",
   "execution_count": 4,
   "metadata": {},
   "outputs": [],
   "source": [
    "side1, side2, side3 = \"carrots\", \"kimchi\", \"mushrooms\""
   ]
  },
  {
   "cell_type": "code",
   "execution_count": 5,
   "metadata": {},
   "outputs": [
    {
     "name": "stdout",
     "output_type": "stream",
     "text": [
      "kimchi\n"
     ]
    }
   ],
   "source": [
    "print(side2)"
   ]
  },
  {
   "cell_type": "markdown",
   "metadata": {},
   "source": [
    "### Variable Types\n",
    "\n",
    "Each variable in our bento box has a `type`. \n",
    "\n",
    "```\n",
    "type(side1)\n",
    "str\n",
    "```\n",
    "Run `type()` on the remaining variables to explore the type options."
   ]
  },
  {
   "cell_type": "code",
   "execution_count": 8,
   "metadata": {},
   "outputs": [
    {
     "data": {
      "text/plain": [
       "str"
      ]
     },
     "execution_count": 8,
     "metadata": {},
     "output_type": "execute_result"
    }
   ],
   "source": [
    "type(side2)"
   ]
  },
  {
   "cell_type": "markdown",
   "metadata": {},
   "source": [
    "### Conditionals\n",
    "\n",
    "Now what if you have food allergies, or want to be able to evaluate a variable before changing it?\n",
    "\n",
    "Well you're in luck, cause we have if statements and conditionals and control flow operators.\n",
    "\n",
    "\n",
    "\n",
    "Control flow operators are:\n",
    "```\n",
    "==\n",
    "!=\n",
    ">\n",
    "<\n",
    "<=\n",
    ">=\n",
    "```\n",
    "\n",
    "\n",
    "Decision Making is like this:\n",
    "```\n",
    "if (protein == 'salmon'):\n",
    "  print(\"I love salmon!\")\n",
    "```\n",
    "\n",
    "![how conditional works](decision_making.jpg)\n",
    "\n",
    "\n",
    "Will I like this bento box?\n",
    "```\n",
    "if (main == 'rice'):\n",
    "  print(\"no carbs, please!\")\n",
    "elif(ozofprotein >= 2.5):\n",
    "  print(\"too much!\")\n",
    "else:\n",
    "  print(\"I have no problems with this order\")\n",
    "```\n",
    "\n",
    "\n",
    "The [tools](https://docs.python.org/3/tutorial/controlflow.html)  used in conditionals are `if`, `elif`, and `else`\n",
    "\n",
    "Update the above code example, but rather than `print` set `greatbento` equal to `True` or `False` depending on the values of the bento box ingredients."
   ]
  },
  {
   "cell_type": "code",
   "execution_count": 11,
   "metadata": {},
   "outputs": [],
   "source": [
    "if protein != \"salmon\":\n",
    "    great_bento = False\n",
    "else:\n",
    "    great_bento=True"
   ]
  },
  {
   "cell_type": "code",
   "execution_count": 12,
   "metadata": {},
   "outputs": [
    {
     "data": {
      "text/plain": [
       "False"
      ]
     },
     "execution_count": 12,
     "metadata": {},
     "output_type": "execute_result"
    }
   ],
   "source": [
    "great_bento"
   ]
  },
  {
   "cell_type": "code",
   "execution_count": 13,
   "metadata": {},
   "outputs": [],
   "source": [
    "protein = \"salmon\""
   ]
  },
  {
   "cell_type": "code",
   "execution_count": 14,
   "metadata": {},
   "outputs": [],
   "source": [
    "if protein != \"salmon\":\n",
    "    great_bento = False\n",
    "else:\n",
    "    great_bento=True"
   ]
  },
  {
   "cell_type": "code",
   "execution_count": 15,
   "metadata": {},
   "outputs": [
    {
     "data": {
      "text/plain": [
       "True"
      ]
     },
     "execution_count": 15,
     "metadata": {},
     "output_type": "execute_result"
    }
   ],
   "source": [
    "great_bento"
   ]
  },
  {
   "cell_type": "markdown",
   "metadata": {},
   "source": [
    "## Using Lists: Indexing, ranges, appending"
   ]
  },
  {
   "cell_type": "markdown",
   "metadata": {},
   "source": [
    "### Lists\n",
    "\n",
    "Writing out all those ingredients individually is a pain, let's put them in a list!\n",
    "\n",
    "![dog-to-do-list](https://media.giphy.com/media/xTiTnuhyBF54B852nK/giphy.gif)\n",
    "\n",
    "\n",
    "```\n",
    "bento_box_list = [\"rice\", \"chicken teriyaki\", \"tempura\", \"soy sauce\", \"ginger\", \"seaweed\"]\n",
    "bento_box_list[2]\n",
    "\n",
    "Output: tempura\n",
    "\n",
    "bento_box_list[0:2]\n",
    "\n",
    "Output: [\"rice\", \"chicken teriyaki\"]\n",
    "```\n",
    "To append to a list:\n",
    "\n",
    "```\n",
    "bento_box_list = [\"rice\", \"chicken teriyaki\", \"tempura\", \"soy sauce\", \"ginger\", \"seaweed\"]\n",
    "bento_box_list.append(\"wasabi\")\n",
    "print(bento_box_list)\n",
    "\n",
    "Output: [\"rice\", \"chicken teriyaki\", \"tempura\", \"soy sauce\", \"ginger\", \"seaweed\", \"wasabi\"]\n",
    "```\n",
    "\n",
    "Now, let's put our order in a readable format using `join`\n",
    "\n",
    "\n",
    "```\n",
    "print('I'd like my bento box to contain: \" + \", \".join(bento_box_list[:-1]+ \", and \"+bento_box_list[-1])\n",
    "```\n",
    "\n",
    "Make a list of your bento box ingredients!  Have it print out in a legible sentence!"
   ]
  },
  {
   "cell_type": "code",
   "execution_count": 16,
   "metadata": {},
   "outputs": [],
   "source": [
    "bento_box_list = [\"rice\", \"chicken teriyaki\",\n",
    "                  \"tempura\", \"soy sauce\", \"ginger\", \"seaweed\"]"
   ]
  },
  {
   "cell_type": "code",
   "execution_count": 22,
   "metadata": {},
   "outputs": [],
   "source": [
    "bento_box_list.append(\"wasabi\")"
   ]
  },
  {
   "cell_type": "code",
   "execution_count": 23,
   "metadata": {},
   "outputs": [
    {
     "data": {
      "text/plain": [
       "'wasabi'"
      ]
     },
     "execution_count": 23,
     "metadata": {},
     "output_type": "execute_result"
    }
   ],
   "source": [
    "bento_box_list[-1]"
   ]
  },
  {
   "cell_type": "code",
   "execution_count": 29,
   "metadata": {},
   "outputs": [
    {
     "name": "stdout",
     "output_type": "stream",
     "text": [
      "I'd like my bento box to contain : rice, chicken teriyaki, and wasabi\n"
     ]
    }
   ],
   "source": [
    "print(\"I'd like my bento box to contain : {}, {}, and {}\".format(bento_box_list[0], bento_box_list[1], bento_box_list[-1]))"
   ]
  },
  {
   "cell_type": "code",
   "execution_count": 35,
   "metadata": {},
   "outputs": [
    {
     "name": "stdout",
     "output_type": "stream",
     "text": [
      "rice, chicken teriyaki, tempura, soy sauce, ginger, seaweed, and wasabi\n"
     ]
    }
   ],
   "source": [
    "# print(\"I'd like my bento box to contain: \" +\n",
    "print(\", \".join(bento_box_list[:-1]) + \", and \" + bento_box_list[-1])"
   ]
  },
  {
   "cell_type": "markdown",
   "metadata": {},
   "source": [
    "## Using Dictionaries: Identifying, Creating, Navigating"
   ]
  },
  {
   "cell_type": "markdown",
   "metadata": {},
   "source": [
    "### Dictionaries\n",
    "\n",
    "![dictionary](https://images.pexels.com/photos/270233/pexels-photo-270233.jpeg?auto=compress&cs=tinysrgb&dpr=2&w=500)\n",
    "\n",
    "No, not that kind! \n",
    "\n",
    "With your list above, someone would need to tell you that \"rice\" is the main and \"chicken\" is the protein. \n",
    "\n",
    "Dictionaries let you assign **key** and **value** pairs. \n",
    "\n",
    "Rather than using **indexing** you use **keys** to return values.\n",
    "\n",
    "```\n",
    "bento_box_dict = {'ingredient1': 'rice', 'ingredient2': 'unagi', 'ingredient3': 'miso soup'}\n",
    "```\n",
    "To get an element in the dictionary:\n",
    "```\n",
    "print(bento_box_dict['ingredient2'])\n",
    "```\n",
    "\n",
    "Update your bento_box_list to be a dictionary. Make sure to run `type()` on your dictionary to confirm it is successful."
   ]
  },
  {
   "cell_type": "code",
   "execution_count": 36,
   "metadata": {},
   "outputs": [],
   "source": [
    "bento_box_dict = {'ingredient1': 'rice', 'ingredient2': 'unagi', 'ingredient3': 'miso soup'}"
   ]
  },
  {
   "cell_type": "code",
   "execution_count": 38,
   "metadata": {},
   "outputs": [
    {
     "data": {
      "text/plain": [
       "dict"
      ]
     },
     "execution_count": 38,
     "metadata": {},
     "output_type": "execute_result"
    }
   ],
   "source": [
    "type(bento_box_dict)"
   ]
  },
  {
   "cell_type": "markdown",
   "metadata": {},
   "source": [
    "Now, to make it even better, you can nest dictionaries INSIDE lists!!\n",
    "\n",
    "```\n",
    "group_lunch = [\n",
    "    {'ingredient1': 'rice', 'ingredient2': 'unagi', 'ingredient3': 'miso soup'},\n",
    "    {'ingredient1': 'seaweed', 'ingredient2': 'tempura', 'ingredient3': 'miso soup'},\n",
    "    {'ingredient1': 'hamburger', 'ingredient2': 'french fries', 'ingredient3': 'milkshake'}\n",
    "]\n",
    "```\n",
    "\n",
    "Run that, and try calling elements of group lunch to see what you get!"
   ]
  },
  {
   "cell_type": "code",
   "execution_count": 39,
   "metadata": {},
   "outputs": [],
   "source": [
    "group_lunch = [\n",
    "    {'ingredient1': 'rice', 'ingredient2': 'unagi', 'ingredient3': 'miso soup'},\n",
    "    {'ingredient1': 'seaweed', 'ingredient2': 'tempura', 'ingredient3': 'miso soup'},\n",
    "    {'ingredient1': 'hamburger', 'ingredient2': 'french fries', 'ingredient3': 'milkshake'}\n",
    "]"
   ]
  },
  {
   "cell_type": "markdown",
   "metadata": {},
   "source": [
    "Talk with your neighbors to get a few different bento box orders into a group order. Please limit each order to 5 ingredients. "
   ]
  },
  {
   "cell_type": "code",
   "execution_count": 48,
   "metadata": {},
   "outputs": [
    {
     "data": {
      "text/plain": [
       "'rice'"
      ]
     },
     "execution_count": 48,
     "metadata": {},
     "output_type": "execute_result"
    }
   ],
   "source": [
    "group_lunch[0]['ingredient1']"
   ]
  },
  {
   "cell_type": "markdown",
   "metadata": {},
   "source": [
    "### For loops\n",
    "\n",
    "Okay, is anyone confused about for-loops? \n",
    "\n",
    "Let's all try to write a loop to print first ingredient in everyone's bento order."
   ]
  },
  {
   "cell_type": "code",
   "execution_count": 46,
   "metadata": {},
   "outputs": [
    {
     "name": "stdout",
     "output_type": "stream",
     "text": [
      "rice\n",
      "seaweed\n",
      "hamburger\n"
     ]
    }
   ],
   "source": [
    "for lunch in group_lunch:\n",
    "    print(lunch[\"ingredient1\"])"
   ]
  },
  {
   "cell_type": "code",
   "execution_count": 63,
   "metadata": {},
   "outputs": [
    {
     "data": {
      "text/plain": [
       "{'ingredient1': 'rice', 'ingredient2': 'unagi', 'ingredient3': 'miso soup'}"
      ]
     },
     "execution_count": 63,
     "metadata": {},
     "output_type": "execute_result"
    }
   ],
   "source": [
    "group_lunch[0]"
   ]
  },
  {
   "cell_type": "markdown",
   "metadata": {},
   "source": [
    "### Integration\n",
    "\n",
    "Write a loop that will go through and print all the orders as a readable sentences. "
   ]
  },
  {
   "cell_type": "code",
   "execution_count": 68,
   "metadata": {
    "scrolled": true
   },
   "outputs": [
    {
     "name": "stdout",
     "output_type": "stream",
     "text": [
      "Order 1 : rice, unagi, and miso soup\n",
      "Order 2 : seaweed, tempura, and miso soup\n",
      "Order 3 : hamburger, french fries, and milkshake\n"
     ]
    }
   ],
   "source": [
    "for number, lunch in enumerate(group_lunch):\n",
    "   print(f\"Order {number + 1} : {lunch['ingredient1']}, {lunch['ingredient2']}, and {lunch['ingredient3']}\")"
   ]
  },
  {
   "cell_type": "code",
   "execution_count": 60,
   "metadata": {
    "scrolled": true
   },
   "outputs": [
    {
     "name": "stdout",
     "output_type": "stream",
     "text": [
      "The bentos will contain rice, unagi and miso soup\n",
      "The bentos will contain seaweed, tempura and miso soup\n",
      "The bentos will contain hamburger, french fries and milkshake\n"
     ]
    }
   ],
   "source": [
    "for lunch in group_lunch:\n",
    "    print(\"The bentos will contain {}, {} and {}\".format(lunch[\"ingredient1\"],lunch[\"ingredient2\"],lunch[\"ingredient3\"]))"
   ]
  },
  {
   "cell_type": "code",
   "execution_count": 69,
   "metadata": {},
   "outputs": [
    {
     "name": "stdout",
     "output_type": "stream",
     "text": [
      "Order 1 contains rice, unagi and miso soup\n",
      "Order 2 contains seaweed, tempura and miso soup\n",
      "Order 3 contains hamburger, french fries and milkshake\n"
     ]
    }
   ],
   "source": [
    "for order in range(len(group_lunch)):\n",
    "    print(\"Order \" + str(order + 1) + \" contains \" + \", \".join(list(\n",
    "        group_lunch[order].values())[:-1]) + \" and \" + group_lunch[order]['ingredient3'])"
   ]
  },
  {
   "cell_type": "markdown",
   "metadata": {},
   "source": [
    "### Reflection:\n",
    "\n",
    "What's a situation where you could use lists and loops to automate a process?\n"
   ]
  },
  {
   "cell_type": "code",
   "execution_count": null,
   "metadata": {},
   "outputs": [],
   "source": []
  }
 ],
 "metadata": {
  "kernelspec": {
   "display_name": "Python 3",
   "language": "python",
   "name": "python3"
  },
  "language_info": {
   "codemirror_mode": {
    "name": "ipython",
    "version": 3
   },
   "file_extension": ".py",
   "mimetype": "text/x-python",
   "name": "python",
   "nbconvert_exporter": "python",
   "pygments_lexer": "ipython3",
   "version": "3.6.9"
  }
 },
 "nbformat": 4,
 "nbformat_minor": 2
}
